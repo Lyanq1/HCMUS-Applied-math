{
 "cells": [
  {
   "cell_type": "markdown",
   "metadata": {},
   "source": [
    "# <center>Đồ án 3: Linear Regression</center>"
   ]
  },
  {
   "cell_type": "markdown",
   "metadata": {},
   "source": [
    "# Thông tin sinh viên\n",
    "\n",
    "- Họ và tên: Âu Dương Khang\n",
    "- MSSV: 21127621\n",
    "- Lớp: 21CLC1"
   ]
  },
  {
   "cell_type": "markdown",
   "metadata": {},
   "source": [
    "# Import"
   ]
  },
  {
   "cell_type": "code",
   "execution_count": 1,
   "metadata": {},
   "outputs": [],
   "source": [
    "import pandas as pd\n",
    "import numpy as np\n",
    "# Import thêm dữ thư viện nếu cần\n",
    "from sklearn.metrics import mean_absolute_error\n",
    "from sklearn.linear_model import LinearRegression\n",
    "from sklearn.model_selection import KFold, cross_val_score\n",
    "import matplotlib.pyplot as plt\n",
    "import seaborn as sns\n"
   ]
  },
  {
   "cell_type": "markdown",
   "metadata": {},
   "source": [
    "# Đọc dữ liệu"
   ]
  },
  {
   "cell_type": "code",
   "execution_count": 2,
   "metadata": {},
   "outputs": [],
   "source": [
    "# Đọc dữ liệu bằng pandas\n",
    "train = pd.read_csv('train.csv')\n",
    "test = pd.read_csv('test.csv')\n",
    "\n",
    "# Lấy các đặc trưng X và giá trị mục tiêu y cho các tập huấn luyện (train) và kiểm tra (test)\n",
    "X_train = train.iloc[:, :-1]    # Dataframe (chứa các đặc trưng huấn luyện)\n",
    "y_train = train.iloc[:, -1]     # Series    (chứa 1 giá trị mục tiêu kiểm tra)\n",
    "\n",
    "X_test = test.iloc[:, :-1]      # Dataframe (chứa các đặc trưng kiểm tra)\n",
    "y_test = test.iloc[:, -1]       # Series    (chứa 1 giá trị mục tiêu kiểm tra)\n",
    "\n",
    "# Sinh viên có thể sử dụng các khác nếu cần"
   ]
  },
  {
   "cell_type": "markdown",
   "metadata": {},
   "source": [
    "# Cài đặt hàm"
   ]
  },
  {
   "cell_type": "code",
   "execution_count": 3,
   "metadata": {},
   "outputs": [],
   "source": [
    "# Cài đặt các hàm cần thiết ở đây    "
   ]
  },
  {
   "cell_type": "markdown",
   "metadata": {},
   "source": [
    "# Yêu cầu 1a: Sử dụng toàn bộ 11 đặc trưng đầu tiên `Gender`, `10percentage`, `12percentage`, `CollegeTier`, `Degree`, `collegeGPA`, `CollegeCityTier`, `English`, `Logical`, `Quant`, `Domain` (2 điểm) "
   ]
  },
  {
   "cell_type": "code",
   "execution_count": 4,
   "metadata": {},
   "outputs": [
    {
     "data": {
      "text/plain": [
       "array([[2.852, 1.018, 0.604, 0.474, 0.192]])"
      ]
     },
     "execution_count": 4,
     "metadata": {},
     "output_type": "execute_result"
    }
   ],
   "source": [
    "# Phần code cho yêu cầu 1a\n",
    "X_train_a = X_train[['Hours Studied', 'Previous Scores', 'Extracurricular Activities', 'Sleep Hours', 'Sample Question Papers Practiced']]\n",
    "y_train_a = train[['Performance Index']]\n",
    "theta = LinearRegression().fit(X_train_a,y_train_a)\n",
    "theta.coef_.round(3)\n"
   ]
  },
  {
   "cell_type": "code",
   "execution_count": 5,
   "metadata": {},
   "outputs": [
    {
     "data": {
      "text/plain": [
       "1.5956486884762973"
      ]
     },
     "execution_count": 5,
     "metadata": {},
     "output_type": "execute_result"
    }
   ],
   "source": [
    "# Gọi hàm MAE (tự cài đặt hoặc từ thư viện) trên tập kiểm tra\n",
    "X_test_a = X_test[['Hours Studied', 'Previous Scores', 'Extracurricular Activities', 'Sleep Hours', 'Sample Question Papers Practiced']]\n",
    "y_test_a = test[['Performance Index']]\n",
    "y_new = theta.predict(X_test_a)\n",
    "mean_absolute_error(y_test_a,y_new)"
   ]
  },
  {
   "cell_type": "markdown",
   "metadata": {},
   "source": [
    "Công thức hồi quy (phần trọng số làm tròn đến 3 chữ số thập phân, ví dụ 0.012345 $\\to$ 0.012)\n",
    "\n",
    "$$\\text{Salary} = -23183.33(Gender) + 702.767(10percentage) + 1259.019(12percentage) -99570.608(CollegeTier) + 18369.962(Degree)$$ \n",
    "$$+ 1297.532(collegeGPA) -8836.727(CollegeCityTier) + 141.76(English) + 145.742(Logical) + 114.643(Quant) + 34955.75(Domain) $$"
   ]
  },
  {
   "cell_type": "markdown",
   "metadata": {},
   "source": [
    "# Yêu cầu 1b: Xây dựng mô hình sử dụng duy nhất 1 đặc trưng tính cách với các đặc trưng tính cách gồm `conscientiousness`, `agreeableness`, `extraversion`, `nueroticism`, `openess_to_experience`, tìm mô hình cho kết quả tốt nhất (1 điểm)"
   ]
  },
  {
   "cell_type": "markdown",
   "metadata": {},
   "source": [
    "Lưu ý: khi sử dụng cross-validation, sinh viên cần xáo trộn dữ liệu 1 lần duy nhất và thực hiện trên toàn bộ đặc trưng"
   ]
  },
  {
   "cell_type": "code",
   "execution_count": 6,
   "metadata": {},
   "outputs": [
    {
     "name": "stdout",
     "output_type": "stream",
     "text": [
      "Best Feature:  Previous Scores\n",
      "MAE Value:  6.61821482613572\n"
     ]
    },
    {
     "data": {
      "text/html": [
       "<div>\n",
       "<style scoped>\n",
       "    .dataframe tbody tr th:only-of-type {\n",
       "        vertical-align: middle;\n",
       "    }\n",
       "\n",
       "    .dataframe tbody tr th {\n",
       "        vertical-align: top;\n",
       "    }\n",
       "\n",
       "    .dataframe thead th {\n",
       "        text-align: right;\n",
       "    }\n",
       "</style>\n",
       "<table border=\"1\" class=\"dataframe\">\n",
       "  <thead>\n",
       "    <tr style=\"text-align: right;\">\n",
       "      <th></th>\n",
       "      <th>Mô hình với 1 đặc trưng</th>\n",
       "      <th>MAE</th>\n",
       "    </tr>\n",
       "  </thead>\n",
       "  <tbody>\n",
       "    <tr>\n",
       "      <th>0</th>\n",
       "      <td>Previous Scores</td>\n",
       "      <td>6.618215</td>\n",
       "    </tr>\n",
       "    <tr>\n",
       "      <th>1</th>\n",
       "      <td>Hours Studied</td>\n",
       "      <td>15.448599</td>\n",
       "    </tr>\n",
       "    <tr>\n",
       "      <th>2</th>\n",
       "      <td>Sleep Hours</td>\n",
       "      <td>16.187007</td>\n",
       "    </tr>\n",
       "    <tr>\n",
       "      <th>3</th>\n",
       "      <td>Sample Question Papers Practiced</td>\n",
       "      <td>16.188386</td>\n",
       "    </tr>\n",
       "    <tr>\n",
       "      <th>4</th>\n",
       "      <td>Extracurricular Activities</td>\n",
       "      <td>16.195873</td>\n",
       "    </tr>\n",
       "  </tbody>\n",
       "</table>\n",
       "</div>"
      ],
      "text/plain": [
       "            Mô hình với 1 đặc trưng        MAE\n",
       "0                   Previous Scores   6.618215\n",
       "1                     Hours Studied  15.448599\n",
       "2                       Sleep Hours  16.187007\n",
       "3  Sample Question Papers Practiced  16.188386\n",
       "4        Extracurricular Activities  16.195873"
      ]
     },
     "metadata": {},
     "output_type": "display_data"
    }
   ],
   "source": [
    "# Phần code cho yêu cầu 1b\n",
    "# Tìm ra đặc trưng tốt nhất\n",
    "CVData = []\n",
    "kfolds = 5 \n",
    "clf = LinearRegression()\n",
    "y_train_b = train[['Performance Index']]\n",
    "\n",
    "X_train_b = X_train[['Hours Studied']]\n",
    "k_folds = KFold(n_splits = kfolds, shuffle=True,random_state=42)\n",
    "\n",
    "scores = cross_val_score(clf, X_train_b, y_train_b, cv = k_folds,scoring='neg_mean_absolute_error')\n",
    "CVData.append(-scores.mean())\n",
    "\n",
    "X_train_b = X_train[['Previous Scores']]\n",
    "k_folds = KFold(n_splits = kfolds, shuffle=True,random_state=42)\n",
    "\n",
    "scores = cross_val_score(clf, X_train_b, y_train_b, cv = k_folds,scoring='neg_mean_absolute_error')\n",
    "CVData.append(-scores.mean())\n",
    "\n",
    "X_train_b = X_train[['Extracurricular Activities']]\n",
    "k_folds = KFold(n_splits = kfolds, shuffle=True,random_state=42)\n",
    "\n",
    "scores = cross_val_score(clf, X_train_b, y_train_b, cv = k_folds,scoring='neg_mean_absolute_error')\n",
    "CVData.append(-scores.mean())\n",
    "\n",
    "X_train_b = X_train[['Sleep Hours']]\n",
    "k_folds = KFold(n_splits = kfolds, shuffle=True,random_state=42)\n",
    "\n",
    "scores = cross_val_score(clf, X_train_b, y_train_b, cv = k_folds,scoring='neg_mean_absolute_error')\n",
    "CVData.append(-scores.mean())\n",
    "\n",
    "X_train_b = X_train[['Sample Question Papers Practiced']]\n",
    "k_folds = KFold(n_splits = kfolds, shuffle=True,random_state=42)\n",
    "\n",
    "scores = cross_val_score(clf, X_train_b, y_train_b, cv = k_folds,scoring='neg_mean_absolute_error')\n",
    "\n",
    "CVData.append(-scores.mean())\n",
    "\n",
    "\n",
    "X_train_b = X_train[['Hours Studied', 'Previous Scores', 'Extracurricular Activities', 'Sleep Hours', 'Sample Question Papers Practiced']]\n",
    "CVData = np.asarray([X_train_b.columns,CVData])\n",
    "\n",
    "CVdf = pd.DataFrame(CVData.T, columns=[\"Mô hình với 1 đặc trưng\", \"MAE\"])\n",
    "\n",
    "SortedFeatures = CVdf.sort_values(by=['MAE'], ignore_index=True)\n",
    "\n",
    "# In ra các kết quả cross-validation như yêu cầu\n",
    "print(\"Best Feature: \", SortedFeatures.iloc[0, 0])\n",
    "print(\"MAE Value: \", SortedFeatures.iloc[0, 1])\n",
    "display(SortedFeatures)\n",
    "\n"
   ]
  },
  {
   "cell_type": "code",
   "execution_count": 7,
   "metadata": {},
   "outputs": [
    {
     "data": {
      "text/plain": [
       "array([[1.011]])"
      ]
     },
     "execution_count": 7,
     "metadata": {},
     "output_type": "execute_result"
    }
   ],
   "source": [
    "# Huấn luyện lại mô hình best_personality_feature_model với đặc trưng tốt nhất trên toàn bộ tập huấn luyện\n",
    "X_best_train_b = X_train[SortedFeatures.iloc[[0], 0]]\n",
    "theta = LinearRegression().fit(X_best_train_b,y_train_b)\n",
    "theta.coef_.round(3)\n"
   ]
  },
  {
   "cell_type": "code",
   "execution_count": 8,
   "metadata": {},
   "outputs": [
    {
     "data": {
      "text/plain": [
       "6.544277293452501"
      ]
     },
     "execution_count": 8,
     "metadata": {},
     "output_type": "execute_result"
    }
   ],
   "source": [
    "# Gọi hàm MAE (tự cài đặt hoặc từ thư viện) trên tập kiểm tra với mô hình best_personality_feature_model\n",
    "X_test_b = X_test[SortedFeatures.iloc[[0], 0]]\n",
    "y_test_b = test[['Performance Index']]\n",
    "y_new = theta.predict(X_test_b)\n",
    "mean_absolute_error(y_test_b,y_new)\n"
   ]
  },
  {
   "cell_type": "markdown",
   "metadata": {},
   "source": [
    "Công thức hồi quy (phần trọng số làm tròn đến 3 chữ số thập phân, ví dụ 0.012345 $\\to$ 0.012)\n",
    "\n",
    "$$\\text{Salary} = -16021.494 (nueroticism)$$"
   ]
  },
  {
   "cell_type": "markdown",
   "metadata": {},
   "source": [
    "# Yêu cầu 1c: Xây dựng mô hình sử dụng duy nhất 1 đặc trưng `English`, `Logical`, `Quant`, tìm mô hình cho kết quả tốt nhất (1 điểm)"
   ]
  },
  {
   "cell_type": "markdown",
   "metadata": {},
   "source": [
    "Lưu ý: khi sử dụng cross-validation, sinh viên cần xáo trộn dữ liệu 1 lần duy nhất và thực hiện trên toàn bộ đặc trưng"
   ]
  },
  {
   "cell_type": "code",
   "execution_count": 9,
   "metadata": {},
   "outputs": [],
   "source": [
    "# # Phần code cho yêu cầu 1c\n",
    "# # Tìm ra đặc trưng tốt nhất\n",
    "# # In ra các kết quả cross-validation như yêu cầu\n",
    "\n",
    "# CVData = []\n",
    "# y_train_c = train[['Salary']]\n",
    "\n",
    "\n",
    "# X_train_c = X_train[['English']]\n",
    "# k_folds = KFold(n_splits = kfolds, shuffle=True,random_state=42)\n",
    "# scores = cross_val_score(clf, X_train_c, y_train_c, cv = k_folds,scoring='neg_mean_absolute_error')\n",
    "# CVData.append(-scores.mean())\n",
    "\n",
    "# X_train_c = X_train[['Logical']]\n",
    "# k_folds = KFold(n_splits = kfolds, shuffle=True,random_state=42)\n",
    "# scores = cross_val_score(clf, X_train_c, y_train_c, cv = k_folds,scoring='neg_mean_absolute_error')\n",
    "# CVData.append(-scores.mean())\n",
    "\n",
    "# X_train_c = X_train[['Quant']]\n",
    "# k_folds = KFold(n_splits = kfolds, shuffle=True,random_state=42)\n",
    "# scores = cross_val_score(clf, X_train_c, y_train_c, cv = k_folds,scoring='neg_mean_absolute_error')\n",
    "# CVData.append(-scores.mean())\n",
    "\n",
    "# X_train_c = X_train[['English','Logical','Quant']]\n",
    "# CVData = np.asarray([X_train_c.columns,CVData])\n",
    "# CVdf = pd.DataFrame(CVData.T, columns=[\"Mô hình với 1 đặc trưng\", \"MAE\"])\n",
    "# SortedFeatures = CVdf.sort_values(by=['MAE'], ignore_index=True)\n",
    "\n",
    "# # In ra các kết quả cross-validation như yêu cầu\n",
    "# print(\"Best Feature: \", SortedFeatures.iloc[0, 0])\n",
    "# print(\"MAE Value: \", SortedFeatures.iloc[0, 1])\n",
    "# display(SortedFeatures)"
   ]
  },
  {
   "cell_type": "code",
   "execution_count": 10,
   "metadata": {},
   "outputs": [],
   "source": [
    "# # Huấn luyện lại mô hình best_skill_feature_model với đặc trưng tốt nhất trên toàn bộ tập huấn luyện\n",
    "# X_best_train_c = X_train[[SortedFeatures.iloc[0, 0]]]\n",
    "# theta = LinearRegression().fit(X_best_train_c,y_train_c)\n",
    "# theta.coef_.round(3)"
   ]
  },
  {
   "cell_type": "code",
   "execution_count": 11,
   "metadata": {},
   "outputs": [],
   "source": [
    "# # Gọi hàm MAE (tự cài đặt hoặc từ thư viện) trên tập kiểm tra với mô hình best_skill_feature_model\n",
    "# X_test_c = X_test[SortedFeatures.iloc[[0], 0]]\n",
    "# y_test_c = test[['Salary']]\n",
    "# y_new = theta.predict(X_test_c)\n",
    "# mean_absolute_error(y_test_c,y_new)"
   ]
  },
  {
   "cell_type": "markdown",
   "metadata": {},
   "source": [
    "Công thức hồi quy (phần trọng số làm tròn đến 3 chữ số thập phân, ví dụ 0.012345 $\\to$ 0.012)\n",
    "\n",
    "$$\\text{Salary} = 368.852(Quant)$$"
   ]
  },
  {
   "cell_type": "markdown",
   "metadata": {},
   "source": [
    "# Yêu cầu 1d: Sinh viên tự xây dựng mô hình, tìm mô hình cho kết quả tốt nhất (3 điểm)"
   ]
  },
  {
   "cell_type": "markdown",
   "metadata": {},
   "source": [
    "Lưu ý: khi sử dụng cross-validation, sinh viên cần xáo trộn dữ liệu 1 lần duy nhất và thực hiện trên toàn bộ $m$ mô hình mà sinh viên thiết kế"
   ]
  },
  {
   "cell_type": "markdown",
   "metadata": {},
   "source": [
    "## Tìm mô hình"
   ]
  },
  {
   "cell_type": "code",
   "execution_count": 12,
   "metadata": {},
   "outputs": [
    {
     "name": "stdout",
     "output_type": "stream",
     "text": [
      "Sample Question Papers Practiced    1.000000\n",
      "Hours Studied                       0.015852\n",
      "Extracurricular Activities          0.008199\n",
      "Previous Scores                     0.006417\n",
      "Sleep Hours                         0.005054\n",
      "Name: Sample Question Papers Practiced, dtype: float64\n"
     ]
    }
   ],
   "source": [
    "# Trình bày các phần tìm ra mô hình\n",
    "#Tìm độ tương quan giữa các thuộc tính\n",
    "correlations = X_train.corr()\n",
    "correlations = correlations.iloc[:, -1]\n",
    "correlations = correlations.sort_values(ascending=False)\n",
    "print(correlations)"
   ]
  },
  {
   "cell_type": "code",
   "execution_count": 13,
   "metadata": {},
   "outputs": [
    {
     "data": {
      "text/plain": [
       "<Axes: >"
      ]
     },
     "execution_count": 13,
     "metadata": {},
     "output_type": "execute_result"
    },
    {
     "data": {
      "image/png": "[encoded data removed]",
      "text/plain": [
       "<Figure size 2300x900 with 2 Axes>"
      ]
     },
     "metadata": {},
     "output_type": "display_data"
    }
   ],
   "source": [
    "#tìm độ tương quan giữa các thuộc tính với thuộc tính Salary\n",
    "corr_matrix = train.corr()\n",
    "fig, ax = plt.subplots(figsize=(23, 9))\n",
    "sns.heatmap(corr_matrix,cmap=\"Greens\", annot=True, linewidths=.5, ax = ax)"
   ]
  },
  {
   "cell_type": "code",
   "execution_count": 14,
   "metadata": {},
   "outputs": [],
   "source": [
    "#Model 1: Select feature with correlation positive\n",
    "p1 = X_train[['Hours Studied','Previous Scores','Extracurricular Activities','Sleep Hours','Sample Question Papers Practiced']]\n",
    "#Model 2:  Select feature with correlation positive and < 0.1\n",
    "p2 = X_train[['Extracurricular Activities','Sleep Hours','Sample Question Papers Practiced']]\n",
    "#Model 3:  Select feature with correlation > 0.1\n",
    "p3 = X_train[['Hours Studied','Previous Scores' ]]\n",
    "#Model 4: Select feature with correlation > 0.15\n",
    "# p4 = X_train[['10percentage','English','Logical','Quant']]\n",
    "#Model 5: Select feature with correlation > 0.1 and select first 6 features\n",
    "# p5 = X_train[['10percentage','12percentage','collegeGPA', 'English','Logical','Quant']]"
   ]
  },
  {
   "cell_type": "markdown",
   "metadata": {},
   "source": [
    "## Thử nghiệm, so sánh các mô hình"
   ]
  },
  {
   "cell_type": "code",
   "execution_count": 15,
   "metadata": {},
   "outputs": [
    {
     "name": "stdout",
     "output_type": "stream",
     "text": [
      "Best Feature:  Model 1\n",
      "MAE Value:  1.6215414357086442\n"
     ]
    },
    {
     "data": {
      "text/html": [
       "<div>\n",
       "<style scoped>\n",
       "    .dataframe tbody tr th:only-of-type {\n",
       "        vertical-align: middle;\n",
       "    }\n",
       "\n",
       "    .dataframe tbody tr th {\n",
       "        vertical-align: top;\n",
       "    }\n",
       "\n",
       "    .dataframe thead th {\n",
       "        text-align: right;\n",
       "    }\n",
       "</style>\n",
       "<table border=\"1\" class=\"dataframe\">\n",
       "  <thead>\n",
       "    <tr style=\"text-align: right;\">\n",
       "      <th></th>\n",
       "      <th>Feature</th>\n",
       "      <th>MAE</th>\n",
       "    </tr>\n",
       "  </thead>\n",
       "  <tbody>\n",
       "    <tr>\n",
       "      <th>0</th>\n",
       "      <td>Model 1</td>\n",
       "      <td>1.621541</td>\n",
       "    </tr>\n",
       "    <tr>\n",
       "      <th>1</th>\n",
       "      <td>Model 3</td>\n",
       "      <td>1.816178</td>\n",
       "    </tr>\n",
       "    <tr>\n",
       "      <th>2</th>\n",
       "      <td>Model 2</td>\n",
       "      <td>16.180217</td>\n",
       "    </tr>\n",
       "  </tbody>\n",
       "</table>\n",
       "</div>"
      ],
      "text/plain": [
       "   Feature        MAE\n",
       "0  Model 1   1.621541\n",
       "1  Model 3   1.816178\n",
       "2  Model 2  16.180217"
      ]
     },
     "metadata": {},
     "output_type": "display_data"
    }
   ],
   "source": [
    "# Phần code cho yêu cầu 1d\n",
    "# Tìm ra mô hình tốt nhất (tự thiết kế bởi sinh viên)\n",
    "y_train_d = train[['Performance Index']]\n",
    "models = []\n",
    "CVData = []\n",
    "\n",
    "X_train_d = p1\n",
    "k_folds = KFold(n_splits = kfolds, shuffle=True,random_state=42)\n",
    "scores = cross_val_score(clf, X_train_d, y_train_d, cv = k_folds,scoring='neg_mean_absolute_error')\n",
    "CVData.append(-scores.mean())\n",
    "\n",
    "X_train_d = p2\n",
    "k_folds = KFold(n_splits = kfolds, shuffle=True,random_state=42)\n",
    "scores = cross_val_score(clf, X_train_d, y_train_d, cv = k_folds,scoring='neg_mean_absolute_error')\n",
    "CVData.append(-scores.mean())\n",
    "\n",
    "X_train_d = p3\n",
    "k_folds = KFold(n_splits = kfolds, shuffle=True,random_state=42)\n",
    "scores = cross_val_score(clf, X_train_d, y_train_d, cv = k_folds,scoring='neg_mean_absolute_error')\n",
    "CVData.append(-scores.mean())\n",
    "\n",
    "# X_train_d = p4\n",
    "# k_folds = KFold(n_splits = kfolds, shuffle=True,random_state=42)\n",
    "# scores = cross_val_score(clf, X_train_d, y_train_d, cv = k_folds,scoring='neg_mean_absolute_error')\n",
    "# CVData.append(-scores.mean())\n",
    "\n",
    "# X_train_d = p5\n",
    "# k_folds = KFold(n_splits = kfolds, shuffle=True,random_state=42)\n",
    "# scores = cross_val_score(clf, X_train_d, y_train_d, cv = k_folds,scoring='neg_mean_absolute_error')\n",
    "# CVData.append(-scores.mean())\n",
    "\n",
    "# X_train_d = p5\n",
    "# X_train_d = np.asarray(p5)\n",
    "# X_train_d = np.sqrt(p5)\n",
    "# k_folds = KFold(n_splits = kfolds, shuffle=True,random_state=42)\n",
    "# scores = cross_val_score(clf, X_train_d, y_train_d, cv = k_folds,scoring='neg_mean_absolute_error')\n",
    "# CVData.append(-scores.mean())\n",
    "\n",
    "ModelNames = pd.Series([\n",
    "    \"Model 1\",\n",
    "    \"Model 2\",\n",
    "    \"Model 3\",\n",
    "\n",
    "])\n",
    "\n",
    "CVData = np.asarray([ModelNames,CVData])\n",
    "CVdf = pd.DataFrame(CVData.T, columns=[\"Feature\", \"MAE\"])\n",
    "SortedFeatures = CVdf.sort_values(by=['MAE'], ignore_index=True)\n",
    "\n",
    "# In ra các kết quả cross-validation như yêu cầu\n",
    "print(\"Best Feature: \", SortedFeatures.iloc[0, 0])\n",
    "print(\"MAE Value: \", SortedFeatures.iloc[0, 1])\n",
    "display(SortedFeatures)"
   ]
  },
  {
   "cell_type": "code",
   "execution_count": 16,
   "metadata": {},
   "outputs": [
    {
     "data": {
      "text/plain": [
       "array([[2.856, 1.018]])"
      ]
     },
     "execution_count": 16,
     "metadata": {},
     "output_type": "execute_result"
    }
   ],
   "source": [
    "# Huấn luyện lại mô hình my_best_model trên toàn bộ tập huấn luyện\n",
    "X_best_train_d = p3\n",
    "theta = LinearRegression().fit(X_best_train_d,y_train_d)\n",
    "theta.coef_.round(3)"
   ]
  },
  {
   "cell_type": "code",
   "execution_count": 17,
   "metadata": {},
   "outputs": [
    {
     "data": {
      "text/plain": [
       "1.839436397652968"
      ]
     },
     "execution_count": 17,
     "metadata": {},
     "output_type": "execute_result"
    }
   ],
   "source": [
    "# Gọi hàm MAE (tự cài đặt hoặc từ thư viện) trên tập kiểm tra với mô hình my_best_model\n",
    "X_test_d = X_test[['Hours Studied','Previous Scores']]\n",
    "y_test_d = test[['Performance Index']]\n",
    "y_new = theta.predict(X_test_d)\n",
    "mean_absolute_error(y_test_d,y_new)"
   ]
  },
  {
   "cell_type": "markdown",
   "metadata": {},
   "source": [
    "Công thức hồi quy (phần trọng số làm tròn đến 3 chữ số thập phân, ví dụ 0.012345 $\\to$ 0.012)\n",
    "\n",
    "$$\\text{Salary} = 671.584(10percentage) + 985.312(12percentage) + 1193.068(collegeGPA) + 155.09(English) + 144.618(Logical) + 167.789(Quant)$$\n",
    "$$ +24416.461(Domain) +  70.416 (ComputerProgramming)$$"
   ]
  }
 ],
 "metadata": {
  "kernelspec": {
   "display_name": "Python 3.8.5 ('base')",
   "language": "python",
   "name": "python3"
  },
  "language_info": {
   "codemirror_mode": {
    "name": "ipython",
    "version": 3
   },
   "file_extension": ".py",
   "mimetype": "text/x-python",
   "name": "python",
   "nbconvert_exporter": "python",
   "pygments_lexer": "ipython3",
   "version": "3.11.1"
  },
  "orig_nbformat": 4,
  "vscode": {
   "interpreter": {
    "hash": "15af99fd1a1a3f0a3416ea421564e792a8676a13670c2eed127d89ab0518a27b"
   }
  }
 },
 "nbformat": 4,
 "nbformat_minor": 2
}
